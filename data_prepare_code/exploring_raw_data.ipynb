{
 "cells": [
  {
   "cell_type": "markdown",
   "metadata": {},
   "source": [
    "# This is an exploratory file for Budnitz RA work"
   ]
  },
  {
   "cell_type": "code",
   "execution_count": null,
   "metadata": {},
   "outputs": [],
   "source": [
    "# import libraries\n",
    "!pip install pandas\n",
    "import pandas as pd\n",
    "pd.set_option('display.max_columns', 50)\n",
    "\n",
    "import os\n",
    "from urllib.request import urlopen\n",
    "import json\n",
    "!pip install plotly\n",
    "import plotly.express as px\n",
    "!pip install matplotlib\n",
    "import matplotlib.pyplot as plt\n",
    "!pip install seaborn\n",
    "import seaborn as sns\n",
    "!pip install numpy\n",
    "import numpy as np\n",
    "!pip install geopandas\n",
    "import geopandas as gpd\n",
    "from shapely.geometry import shape\n",
    "from collections import defaultdict\n",
    "\n",
    "!pip install --upgrade nbformat\n",
    "import nbformat"
   ]
  },
  {
   "cell_type": "code",
   "execution_count": 2,
   "metadata": {},
   "outputs": [],
   "source": [
    "# import libraries\n",
    "import pandas as pd\n",
    "pd.set_option('display.max_columns', 50)\n",
    "\n",
    "import os\n",
    "from urllib.request import urlopen\n",
    "import json\n",
    "import plotly.express as px\n",
    "import matplotlib.pyplot as plt\n",
    "import seaborn as sns\n",
    "import numpy as np\n",
    "import geopandas as gpd\n",
    "from shapely.geometry import shape\n",
    "from collections import defaultdict\n",
    "import nbformat"
   ]
  },
  {
   "cell_type": "code",
   "execution_count": 3,
   "metadata": {},
   "outputs": [],
   "source": [
    "# survey data import\n",
    "\n",
    "# Get the directory of the current notebook\n",
    "parent_dir = os.path.abspath(os.path.join(os.path.dirname(os.path.abspath(\"__file__\")), os.pardir))\n",
    "filepath_local_authority = os.path.join(parent_dir, 'raw_data', 'LAoutputFleet.csv')\n",
    "\n",
    "# read LSOA and Local Authority data\n",
    "df_loc_auth = pd.read_csv(filepath_local_authority)\n",
    "df_msoa = pd.read_csv(os.path.join(parent_dir, 'raw_data', 'MSOAOutput.csv'))\n",
    "df_msoa = df_msoa.drop(columns=['Unnamed: 0'])"
   ]
  },
  {
   "cell_type": "code",
   "execution_count": 14,
   "metadata": {},
   "outputs": [],
   "source": [
    "# geojson data import\n",
    "\n",
    "# tolerance for simplifying geojson\n",
    "tolerance = 0.005\n",
    "\n",
    "# geojson with LAD22CD and LAD22NM\n",
    "geojson_lad22nm_path = os.path.join(parent_dir, 'raw_data', 'Local_Authority_Districts_December_2022_UK_BFC_V2_-7857726022236933518.geojson')\n",
    "simplified_geojson_lad22nm_path = os.path.join(parent_dir, 'dashboard', 'cleaned_data', 'simplified_geojson_lad22nm.geojson')\n",
    "geojson_lad22nm = gpd.read_file(geojson_lad22nm_path)\n",
    "geojson_lad22nm['geometry'] = geojson_lad22nm['geometry'].simplify(tolerance, preserve_topology=True)\n",
    "geojson_lad22nm.to_file(simplified_geojson_lad22nm_path, driver='GeoJSON')\n",
    "with open(simplified_geojson_lad22nm_path) as response:\n",
    "    geojson_lad22nm = json.load(response)\n",
    "\n",
    "# geojson that matches df_loc_auth\n",
    "geojson_loc_auth_path = os.path.join(parent_dir, 'raw_data', 'Counties_and_Unitary_Authorities_December_2024_Boundaries_UK_BFC_3348038940373313033.geojson')\n",
    "simplified_geojson_loc_auth_path = os.path.join(parent_dir, 'dashboard', 'cleaned_data', 'simplified_geojson_loc_auth.geojson')\n",
    "geojson_loc_auth = gpd.read_file(geojson_loc_auth_path)\n",
    "geojson_loc_auth['geometry'] = geojson_loc_auth['geometry'].simplify(tolerance, preserve_topology=True)\n",
    "geojson_loc_auth.to_file(simplified_geojson_loc_auth_path, driver='GeoJSON')\n",
    "with open(simplified_geojson_loc_auth_path) as response:\n",
    "    geojson_loc_auth = json.load(response)\n",
    "\n",
    "# geojson with MSOA21CD\n",
    "geojson_msoa_path = os.path.join(parent_dir, 'raw_data', 'Middle_layer_Super_Output_Areas_December_2021_Boundaries_EW_BFC_V7_303696399389513507.geojson')\n",
    "simplified_geojson_msoa = os.path.join(parent_dir, 'dashboard', 'cleaned_data', 'simplified_geojson_msoa.geojson')\n",
    "geojson_msoa = gpd.read_file(geojson_msoa_path)\n",
    "geojson_msoa['geometry'] = geojson_msoa['geometry'].simplify(tolerance, preserve_topology=True)\n",
    "geojson_msoa.to_file(simplified_geojson_msoa, driver='GeoJSON')\n",
    "with open(simplified_geojson_msoa) as response:\n",
    "    geojson_msoa = json.load(response)"
   ]
  },
  {
   "cell_type": "markdown",
   "metadata": {},
   "source": [
    "## Grouping df_msoa to MSOA21CD and LAD22CD each"
   ]
  },
  {
   "cell_type": "code",
   "execution_count": 6,
   "metadata": {},
   "outputs": [],
   "source": [
    "# subset df_msoa to msoa columns only\n",
    "df_msoa_keep_cols = ['LAD22CD', 'LAD22NM', 'MSOA21CD', 'TotHholdMSOA', 'VehsRegMSOA', 'MSOACarOwnRates', 'EVRegMSOA',\n",
    "                    'EVRateMSOA', 'CarRedincCC', 'CCCarOwnMSOA', 'CCredCarOwnMSOA',\n",
    "                    'MSOAEVincCC', 'MSOAEVRateincCC', 'MSOAChangeEVuptake']\n",
    "df_msoa_ = df_msoa[df_msoa_keep_cols].copy()\n",
    "df_msoa_ = df_msoa_.groupby('MSOA21CD').first().reset_index()\n",
    "\n",
    "df_lad_keep_cols = ['LAD22CD', 'LAD22NM', 'TotHholdLAD', 'VehsRegLAD', 'LADCarOwnRates', 'EVRegLAD', 'EVRateLAD',\n",
    "                    'LADCarRedincCC', 'CCCarOwnLAD', 'CCredCarOwnLAD', 'LADEVincCC',\n",
    "                    'LADEVRateincCC', 'LADChangeEVuptake']\n",
    "df_lad_ = df_msoa[df_lad_keep_cols].copy()\n",
    "df_lad_ = df_lad_.groupby('LAD22CD').first().reset_index()\n",
    "\n",
    "df_msoa = df_msoa_.copy()\n",
    "df_lad = df_lad_.copy()"
   ]
  },
  {
   "cell_type": "code",
   "execution_count": null,
   "metadata": {},
   "outputs": [],
   "source": [
    "# align column names\n",
    "\n",
    "colnames = {'TotHholdLAD': 'TotHhold', 'VehsRegLAD': 'VehsReg', 'LADCarOwnRates': 'CarOwnRates', 'EVRegLAD': 'EVReg',\n",
    "            'EVRateLAD': 'EVRate', 'LADCarRedincCC': 'CarRedincCC', 'CCCarOwnLAD': 'CCCarOwn', 'CCredCarOwnLAD': 'CCredCarOwn',\n",
    "            'LADEVincCC': 'EVincCC', 'LADEVRateincCC': 'EVRateincCC', 'LADChangeEVuptake': 'ChangeEVuptake'}\n",
    "\n",
    "df_lad = df_lad.rename(columns=colnames)"
   ]
  },
  {
   "cell_type": "code",
   "execution_count": null,
   "metadata": {},
   "outputs": [],
   "source": [
    "# align column names\n",
    "\n",
    "colnames = {'TotHholdMSOA': 'TotHhold', 'VehsRegMSOA': 'VehsReg', 'MSOACarOwnRates': 'CarOwnRates', 'EVRegMSOA': 'EVReg', \n",
    "            'EVRateMSOA': 'EVRate', 'CarRedincCC': 'CarRedincCC', 'CCCarOwnMSOA': 'CCCarOwn', 'CCredCarOwnMSOA': 'CCredCarOwn',\n",
    "            'MSOAEVincCC': 'EVincCC', 'MSOAEVRateincCC': 'EVRateincCC', 'MSOAChangeEVuptake': 'ChangeEVuptake',\n",
    "            'meanAddJobs_15byCC': 'AddJobs_15byCC', 'meanAddJobs_30byCC': 'AddJobs_30byCC', 'meanTimeCCsecSch': 'TimeCCsecSch'}\n",
    "\n",
    "df_msoa = df_msoa.rename(columns=colnames)"
   ]
  },
  {
   "cell_type": "code",
   "execution_count": null,
   "metadata": {},
   "outputs": [],
   "source": [
    "cd_dic = {'Somerset': 'E06000066',\n",
    "          'North Yorkshire': 'E06000065',\n",
    "          'Cumbria': 'E06000063'}\n",
    "\n",
    "# replace codes in data\n",
    "for nm, cd in cd_dic.items():\n",
    "    df_loc_auth.loc[df_loc_auth['Local.Authority']==nm, 'Local.Authority.Code'] = cd\n",
    "\n",
    "# duplicate data for Cumbria to replace missing row for 'Westmorland and Furness': 'E06000064'\n",
    "# df_loc_auth = df_loc_auth.append(df_loc_auth[df_loc_auth['Local.Authority.Code']=='E06000063'])\n",
    "waf_append = df_loc_auth[df_loc_auth['Local.Authority.Code']=='E06000063']\n",
    "waf_append['Local.Authority.Code'] = 'E06000064'\n",
    "waf_append['Local.Authority'] = 'Westmorland and Furness'\n",
    "df_loc_auth = pd.concat([df_loc_auth, waf_append], ignore_index=True)"
   ]
  },
  {
   "cell_type": "code",
   "execution_count": 15,
   "metadata": {},
   "outputs": [
    {
     "data": {
      "text/plain": [
       "{'Bristol', 'Herefordshire', 'Kingston upon Hull'}"
      ]
     },
     "execution_count": 15,
     "metadata": {},
     "output_type": "execute_result"
    }
   ],
   "source": [
    "gjson_nm_ls = [geojson_lad22nm['features'][i]['properties']['LAD22NM'] for i in range(len(geojson_lad22nm['features']))]\n",
    "df_nm_ls = df_lad['LAD22NM'].unique()\n",
    "set(df_nm_ls) - set(gjson_nm_ls)"
   ]
  },
  {
   "cell_type": "code",
   "execution_count": 16,
   "metadata": {},
   "outputs": [],
   "source": [
    "lad22nm_dic = {'Herefordshire': 'Herefordshire, County of',\n",
    "               'Bristol': 'Bristol, City of',\n",
    "               'Kingston upon Hull': 'Kingston upon Hull, City of'}\n",
    "\n",
    "# replace names in data\n",
    "for nm, nm_new in lad22nm_dic.items():\n",
    "    df_lad.loc[df_lad['LAD22NM']==nm, 'LAD22NM'] = nm_new"
   ]
  },
  {
   "cell_type": "code",
   "execution_count": 17,
   "metadata": {},
   "outputs": [],
   "source": [
    "df_msoa['MSOACD_LADNM'] = df_msoa['LAD22NM'] + ' (' + df_msoa['MSOA21CD'] + ')'\n",
    "df_msoa = df_msoa.sort_values(by='MSOACD_LADNM')"
   ]
  },
  {
   "cell_type": "code",
   "execution_count": null,
   "metadata": {},
   "outputs": [],
   "source": [
    "# weight reduction in car ownership and increase in EV uptake by MSOA onto LAD\n",
    "\n",
    "def weighted_mean(group, value_column, weight_column):\n",
    "    return (group[value_column] * group[weight_column]).sum() / group[weight_column].sum()\n",
    "\n",
    "# Group by 'LAD22CD' and calculate the weighted mean of 'ChangeEVuptake' and 'CCredCarOwn' by 'TotHhold'\n",
    "df_msoa['TotHhold'] = df_msoa['TotHhold'].fillna(0)\n",
    "ChangeEVuptake_weight = df_msoa.groupby('LAD22CD').apply(lambda x: weighted_mean(x, 'ChangeEVuptake', 'TotHhold'))\n",
    "ChangeEVuptake_weight = ChangeEVuptake_weight.reset_index()\n",
    "ChangeEVuptake_weight.columns = ['LAD22CD', 'ChangeEVuptake_weight']\n",
    "df_lad = df_lad.merge(ChangeEVuptake_weight, on='LAD22CD', how='left')\n",
    "\n",
    "CCredCarOwn_weight = df_msoa.groupby('LAD22CD').apply(lambda x: weighted_mean(x, 'CCredCarOwn', 'TotHhold'))\n",
    "CCredCarOwn_weight = CCredCarOwn_weight.reset_index()\n",
    "CCredCarOwn_weight.columns = ['LAD22CD', 'CCredCarOwn_weight']\n",
    "df_lad = df_lad.merge(CCredCarOwn_weight, on='LAD22CD', how='left')\n",
    "\n",
    "# replace weighted columns\n",
    "df_lad['ChangeEVuptake'] = df_lad['ChangeEVuptake_weight']\n",
    "df_lad['CCredCarOwn'] = df_lad['CCredCarOwn_weight']\n",
    "df_lad = df_lad.drop(columns=['ChangeEVuptake_weight', 'CCredCarOwn_weight'])\n",
    "\n",
    "df_lad = df_lad.sort_values(by='LAD22NM')\n",
    "\n",
    "df_lad"
   ]
  },
  {
   "cell_type": "code",
   "execution_count": 20,
   "metadata": {},
   "outputs": [],
   "source": [
    "# save dataframes\n",
    "\n",
    "# save df_county\n",
    "df_loc_auth.to_csv(os.path.join(parent_dir, 'dashboard', 'cleaned_data', 'df_county.csv'), index=False)\n",
    "\n",
    "# save df_lad\n",
    "df_lad.to_csv(os.path.join(parent_dir, 'dashboard', 'cleaned_data', 'df_lad.csv'), index=False)\n",
    "\n",
    "# # save df_msoa\n",
    "df_msoa.to_csv(os.path.join(parent_dir, 'dashboard', 'cleaned_data', 'df_msoa.csv'), index=False)"
   ]
  }
 ],
 "metadata": {
  "kernelspec": {
   "display_name": "3.10.5",
   "language": "python",
   "name": "python3"
  },
  "language_info": {
   "codemirror_mode": {
    "name": "ipython",
    "version": 3
   },
   "file_extension": ".py",
   "mimetype": "text/x-python",
   "name": "python",
   "nbconvert_exporter": "python",
   "pygments_lexer": "ipython3",
   "version": "3.10.5"
  }
 },
 "nbformat": 4,
 "nbformat_minor": 2
}
